{
 "cells": [
  {
   "cell_type": "markdown",
   "metadata": {},
   "source": [
    "# NLP Assignment 1 (40% of grade): Sentiment Analysis from Tweets\n",
    "\n",
    "This coursework will involve you implementing functions for a text classifier, which you will train to identify the **sentiment expressed in a text** in a dataset of approx. 27,000 entries, which will be split into a 80%/20% training/test split. \n",
    "\n",
    "In this template you are given the basis for that implementation, though some of the functions are missing, which you have to fill in.\n",
    "\n",
    "Follow the instructions file **NLP_Assignment_1_Instructions.pdf** for details of each question - the outline of what needs to be achieved for each question is as below.\n",
    "\n",
    "You must submit all **ipython notebooks and extra resources you need to run the code if you've added them** in the code submission, and a **2 page report (pdf)** in the report submission on QMPlus where you report your methods and findings according to the instructions file for each question."
   ]
  },
  {
   "cell_type": "code",
   "execution_count": 115,
   "metadata": {},
   "outputs": [],
   "source": [
    "import csv                               # csv reader\n",
    "from sklearn.svm import LinearSVC\n",
    "from nltk.classify import SklearnClassifier\n",
    "from sklearn.pipeline import Pipeline\n",
    "from sklearn.metrics import precision_recall_fscore_support # to report on precision and recall\n",
    "import numpy as np\n",
    "import warnings\n",
    "warnings.filterwarnings(\"ignore\")"
   ]
  },
  {
   "cell_type": "code",
   "execution_count": 116,
   "metadata": {},
   "outputs": [],
   "source": [
    "def load_data(path):\n",
    "    \"\"\"Load data from a tab-separated file and append it to raw_data.\"\"\"\n",
    "    with open(file = path, encoding='utf-8') as f:\n",
    "        reader = csv.reader(f, delimiter='\\t')\n",
    "        for line in reader:\n",
    "            if line[0] == \"Id\":  # skip header\n",
    "                continue\n",
    "            (label, text) = parse_data_line(line)\n",
    "            raw_data.append((text, label))\n",
    "\n",
    "def split_and_preprocess_data(percentage):\n",
    "    \"\"\"Split the data between train_data and test_data according to the percentage\n",
    "    and performs the preprocessing.\"\"\"\n",
    "    num_samples = len(raw_data)\n",
    "    num_training_samples = int((percentage * num_samples))\n",
    "    for (text, label) in raw_data[:num_training_samples]:\n",
    "        train_data.append((to_feature_vector(pre_process(text)),label))\n",
    "    for (text, label) in raw_data[num_training_samples:]:\n",
    "        test_data.append((to_feature_vector(pre_process(text)),label))"
   ]
  },
  {
   "cell_type": "markdown",
   "metadata": {},
   "source": [
    "# Question 1: Input and Basic preprocessing (10 marks)"
   ]
  },
  {
   "cell_type": "code",
   "execution_count": 117,
   "metadata": {},
   "outputs": [],
   "source": [
    "def parse_data_line(data_line):\n",
    "    '''Takes a list corresponding to a data line as input and returns a tuple (label,statement)'''\n",
    "    # Should return a tuple of the label as just positive or negative and the statement\n",
    "    # e.g. (label, statement)\n",
    "    label = data_line[1]\n",
    "    statement = data_line[2]\n",
    "    return ((label,statement))"
   ]
  },
  {
   "cell_type": "code",
   "execution_count": 118,
   "metadata": {},
   "outputs": [],
   "source": [
    "# Input: a string of one statement\n",
    "def pre_process(text):\n",
    "    '''Returns a list of tokens'''\n",
    "    # Should return a list of tokens\n",
    "    # DESCRIBE YOUR METHOD IN WORDS\n",
    "    import re\n",
    "    text = re.sub(r\"(\\w)([.,;:!?'\\\"”\\)])\", r\"\\1 \\2\", text) \n",
    "    text = re.sub(r\"([.,;:!?'\\\"“\\(\\)])(\\w)\", r\"\\1 \\2\", text) \n",
    "    tokens = re.split(r\"\\s+\",text)\n",
    "    return [t.lower() for t in tokens]"
   ]
  },
  {
   "cell_type": "markdown",
   "metadata": {},
   "source": [
    "### Method "
   ]
  },
  {
   "cell_type": "markdown",
   "metadata": {},
   "source": [
    "We import the regular expression library **'re'**. The **re.sub()** method is used to separate words from punctuations occuring at the end and beginning respectively. The **re.split()** method is used to split the text into a list of tokens. We finally convert all tokens to lowercase and return the list of tokens."
   ]
  },
  {
   "cell_type": "markdown",
   "metadata": {},
   "source": [
    "# Question 2: Basic Feature Extraction (20 marks)"
   ]
  },
  {
   "cell_type": "code",
   "execution_count": 119,
   "metadata": {},
   "outputs": [],
   "source": [
    "global_feature_dict = {} # A global dictionary of features\n",
    "\n",
    "def to_feature_vector(tokens):\n",
    "    # Should return a dictionary containing features as keys, and weights as values\n",
    "    # DESCRIBE YOUR METHOD IN WORDS\n",
    "    '''Returns a dictionary of features as keys and their weights as values'''\n",
    "    feature_vector={}\n",
    "    for word in set(tokens):\n",
    "        if word not in global_feature_dict:\n",
    "            global_feature_dict[word] = tokens.count(word)\n",
    "        else:\n",
    "            global_feature_dict[word]+=tokens.count(word)\n",
    "        feature_vector[word] = 1\n",
    "\n",
    "    return feature_vector"
   ]
  },
  {
   "cell_type": "markdown",
   "metadata": {},
   "source": [
    "### Method\n"
   ]
  },
  {
   "cell_type": "markdown",
   "metadata": {},
   "source": [
    "We create a dictionary **feature_vector** and use a for loop to parse through every unique word in the tokens list. The dictionary then maps each word to a weight value of '1'. We also update the global_feature_dict everytime the function is called. We finally return the feature_vector dictionary."
   ]
  },
  {
   "cell_type": "code",
   "execution_count": 120,
   "metadata": {},
   "outputs": [],
   "source": [
    "# TRAINING AND VALIDATING OUR CLASSIFIER\n",
    "\n",
    "def train_classifier(data):\n",
    "    print(\"Training Classifier...\")\n",
    "    pipeline =  Pipeline([('svc', LinearSVC())])\n",
    "    return SklearnClassifier(pipeline).train(data)"
   ]
  },
  {
   "cell_type": "markdown",
   "metadata": {},
   "source": [
    "# Question 3: Cross-validation (20 marks)"
   ]
  },
  {
   "cell_type": "code",
   "execution_count": 121,
   "metadata": {},
   "outputs": [],
   "source": [
    "#solution\n",
    "from sklearn.metrics import classification_report\n",
    "\n",
    "def cross_validate(dataset, folds):  #dataset is a list of tuples; each tuple containing a feature vector dictionary and a label\n",
    "    cv_results = {}\n",
    "    accuracy_scores = []\n",
    "    positive_precision_scores = []\n",
    "    positive_recall_scores = []\n",
    "    positive_f1_scores = []\n",
    "    negative_precision_scores = []\n",
    "    negative_recall_scores = []\n",
    "    negative_f1_scores = []\n",
    "    fold_size = int(len(dataset)/folds) + 1\n",
    "    \n",
    "    for i in range(0,len(dataset),int(fold_size)):\n",
    "        # insert code here that trains and tests on the 10 folds of data in the dataset\n",
    "        train_data_cv = dataset[:i] + dataset[i+fold_size:]\n",
    "        classifier = train_classifier(train_data_cv)\n",
    "        test_data = [k[0] for k in dataset[i:i+fold_size]]\n",
    "        labels_pred = predict_labels(test_data, classifier)\n",
    "        labels_true = [k[1] for k in dataset[i:i+fold_size]]\n",
    "        print(\"Fold start on items %d - %d\" % (i, i+fold_size))\n",
    "        report = classification_report(labels_true, labels_pred, output_dict=True)\n",
    "        accuracy_scores.append(report['accuracy'])\n",
    "        positive_precision_scores.append(report['positive']['precision'])\n",
    "        positive_recall_scores.append(report['positive']['recall'])\n",
    "        positive_f1_scores.append(report['positive']['f1-score'])\n",
    "        negative_precision_scores.append(report['negative']['precision'])\n",
    "        negative_recall_scores.append(report['negative']['recall'])\n",
    "        negative_f1_scores.append(report['negative']['f1-score'])\n",
    "        # FILL IN THE METHOD HERE\n",
    "    \n",
    "    avg_accuracy = sum(accuracy_scores) / len(accuracy_scores)\n",
    "    avg_positive_precision = sum(positive_precision_scores) / len(positive_precision_scores)\n",
    "    avg_positive_recall = sum(positive_recall_scores) / len(positive_recall_scores)\n",
    "    avg_positive_f1 = sum(positive_f1_scores) / len(positive_f1_scores)\n",
    "    avg_negative_precision = sum(negative_precision_scores) / len(negative_precision_scores)\n",
    "    avg_negative_recall = sum(negative_recall_scores) / len(negative_recall_scores)\n",
    "    avg_negative_f1 = sum(negative_f1_scores) / len(negative_f1_scores)\n",
    "    \n",
    "    positive_results = {'precision':avg_positive_precision, 'recall':avg_positive_recall, 'f1-score':avg_positive_f1}\n",
    "    negative_results = {'precision':avg_negative_precision, 'recall':avg_negative_recall, 'f1-score':avg_negative_f1}\n",
    "    \n",
    "    cv_results = {'positive':positive_results, 'negative':negative_results, 'accuracy':avg_accuracy}\n",
    "        \n",
    "    return cv_results"
   ]
  },
  {
   "cell_type": "code",
   "execution_count": 122,
   "metadata": {},
   "outputs": [],
   "source": [
    "# PREDICTING LABELS GIVEN A CLASSIFIER\n",
    "\n",
    "def predict_labels(samples, classifier):\n",
    "    \"\"\"Assuming preprocessed samples, return their predicted labels from the classifier model.\"\"\"\n",
    "    return classifier.classify_many(samples)\n",
    "\n",
    "def predict_label_from_raw(sample, classifier):\n",
    "    \"\"\"Assuming raw text, return its predicted label from the classifier model.\"\"\"\n",
    "    return classifier.classify(to_feature_vector(preProcess(reviewSample)))"
   ]
  },
  {
   "cell_type": "code",
   "execution_count": 123,
   "metadata": {},
   "outputs": [
    {
     "name": "stdout",
     "output_type": "stream",
     "text": [
      "Now 0 rawData, 0 trainData, 0 testData\n",
      "Preparing the dataset...\n",
      "Now 33540 rawData, 0 trainData, 0 testData\n",
      "Preparing training and test data...\n",
      "After split, 33540 rawData, 26832 trainData, 6708 testData\n",
      "Training Samples: \n",
      "26832\n",
      "Features: \n",
      "64640\n"
     ]
    }
   ],
   "source": [
    "# MAIN\n",
    "\n",
    "# loading reviews\n",
    "# initialize global lists that will be appended to by the methods below\n",
    "raw_data = []          # the filtered data from the dataset file\n",
    "train_data = []        # the pre-processed training data as a percentage of the total dataset\n",
    "test_data = []         # the pre-processed test data as a percentage of the total dataset\n",
    "\n",
    "\n",
    "# references to the data files\n",
    "data_file_path = 'sentiment-dataset.tsv'\n",
    "\n",
    "# Do the actual stuff (i.e. call the functions we've made)\n",
    "# We parse the dataset and put it in a raw data list\n",
    "print(\"Now %d rawData, %d trainData, %d testData\" % (len(raw_data), len(train_data), len(test_data)),\n",
    "      \"Preparing the dataset...\",sep='\\n')\n",
    "\n",
    "load_data(data_file_path) \n",
    "\n",
    "# We split the raw dataset into a set of training data and a set of test data (80/20)\n",
    "# You do the cross validation on the 80% (training data)\n",
    "# We print the number of training samples and the number of features before the split\n",
    "print(\"Now %d rawData, %d trainData, %d testData\" % (len(raw_data), len(train_data), len(test_data)),\n",
    "      \"Preparing training and test data...\",sep='\\n')\n",
    "\n",
    "split_and_preprocess_data(0.8)\n",
    "\n",
    "# We print the number of training samples and the number of features after the split\n",
    "print(\"After split, %d rawData, %d trainData, %d testData\" % (len(raw_data), len(train_data), len(test_data)),\n",
    "      \"Training Samples: \", len(train_data), \"Features: \", len(global_feature_dict), sep='\\n')\n"
   ]
  },
  {
   "cell_type": "code",
   "execution_count": 124,
   "metadata": {},
   "outputs": [
    {
     "name": "stdout",
     "output_type": "stream",
     "text": [
      "Training Classifier...\n",
      "Fold start on items 0 - 2684\n",
      "Training Classifier...\n",
      "Fold start on items 2684 - 5368\n",
      "Training Classifier...\n",
      "Fold start on items 5368 - 8052\n",
      "Training Classifier...\n",
      "Fold start on items 8052 - 10736\n",
      "Training Classifier...\n",
      "Fold start on items 10736 - 13420\n",
      "Training Classifier...\n",
      "Fold start on items 13420 - 16104\n",
      "Training Classifier...\n",
      "Fold start on items 16104 - 18788\n",
      "Training Classifier...\n",
      "Fold start on items 18788 - 21472\n",
      "Training Classifier...\n",
      "Fold start on items 21472 - 24156\n",
      "Training Classifier...\n",
      "Fold start on items 24156 - 26840\n"
     ]
    },
    {
     "data": {
      "text/plain": [
       "{'positive': {'precision': 0.8718679755782487,\n",
       "  'recall': 0.8963804946206588,\n",
       "  'f1-score': 0.8839177384295743},\n",
       " 'negative': {'precision': 0.790582458533277,\n",
       "  'recall': 0.7477204960373139,\n",
       "  'f1-score': 0.7684237486410749},\n",
       " 'accuracy': 0.848318441342039}"
      ]
     },
     "execution_count": 124,
     "metadata": {},
     "output_type": "execute_result"
    }
   ],
   "source": [
    "cross_validate(train_data, 10)  # will work and output overall performance of p, r, f-score when cv implemented"
   ]
  },
  {
   "cell_type": "markdown",
   "metadata": {},
   "source": [
    "### Method"
   ]
  },
  {
   "cell_type": "markdown",
   "metadata": {},
   "source": [
    "The **cross_validate()** function returns a dictionary containing the average metric scores (precision, recall, f1) of all 10 folds for each class and the average accuracy score."
   ]
  },
  {
   "cell_type": "markdown",
   "metadata": {},
   "source": [
    "# Question 4: Error Analysis (20 marks)"
   ]
  },
  {
   "cell_type": "code",
   "execution_count": 125,
   "metadata": {},
   "outputs": [],
   "source": [
    "from sklearn import metrics\n",
    "import matplotlib.pyplot as plt\n",
    "# a function to make the confusion matrix readable and pretty\n",
    "def confusion_matrix_heatmap(y_test, preds, labels):\n",
    "    \"\"\"Function to plot a confusion matrix\"\"\"\n",
    "    # pass labels to the confusion matrix function to ensure right order\n",
    "    # cm = metrics.confusion_matrix(y_test, preds, labels)\n",
    "    cm = metrics.confusion_matrix(y_test, preds, labels=labels)\n",
    "    fig = plt.figure(figsize=(10,10))\n",
    "    ax = fig.add_subplot(111)\n",
    "    cax = ax.matshow(cm)\n",
    "    plt.title('Confusion matrix of the classifier')\n",
    "    fig.colorbar(cax)\n",
    "    ax.set_xticks(np.arange(len(labels)))\n",
    "    ax.set_yticks(np.arange(len(labels)))\n",
    "    ax.set_xticklabels( labels, rotation=45)\n",
    "    ax.set_yticklabels( labels)\n",
    "\n",
    "    for i in range(len(cm)):\n",
    "        for j in range(len(cm)):\n",
    "            text = ax.text(j, i, cm[i, j],\n",
    "                           ha=\"center\", va=\"center\", color=\"w\")\n",
    "\n",
    "    plt.xlabel('Predicted')\n",
    "    plt.ylabel('True')\n",
    "    \n",
    "    # fix for mpl bug that cuts off top/bottom of seaborn viz:\n",
    "    b, t = plt.ylim() # discover the values for bottom and top\n",
    "    b += 0.5 # Add 0.5 to the bottom\n",
    "    t -= 0.5 # Subtract 0.5 from the top\n",
    "    plt.ylim(b, t) # update the ylim(bottom, top) values\n",
    "    plt.show() # ta-da!\n",
    "    plt.show()"
   ]
  },
  {
   "cell_type": "code",
   "execution_count": 126,
   "metadata": {},
   "outputs": [],
   "source": [
    "def cv_fold1_data(dataset):\n",
    "    foldsize=int(len(dataset)/10)\n",
    "    train_data_cv_fold1 = dataset[foldsize:]\n",
    "    classifier_fold1 = train_classifier(train_data_cv_fold1)\n",
    "    test_data_fold1 = [k[0] for k in dataset[:foldsize]]\n",
    "    labels_pred_fold1 = predict_labels(test_data_fold1, classifier_fold1)\n",
    "    labels_true_fold1 = [k[1] for k in dataset[:foldsize]]\n",
    "    cv_fold1_results = classification_report(labels_true_fold1, labels_pred_fold1, output_dict=True)\n",
    "    _ = cv_fold1_results['positive'].pop('support')\n",
    "    _ = cv_fold1_results['negative'].pop('support')\n",
    "    _ = cv_fold1_results.pop('weighted avg')\n",
    "    _ = cv_fold1_results.pop('macro avg')\n",
    "    cv_fold1_results['y_true'] = labels_true_fold1\n",
    "    cv_fold1_results['y_pred'] = labels_pred_fold1\n",
    "    return cv_fold1_results"
   ]
  },
  {
   "cell_type": "code",
   "execution_count": 127,
   "metadata": {},
   "outputs": [
    {
     "name": "stdout",
     "output_type": "stream",
     "text": [
      "Training Classifier...\n"
     ]
    },
    {
     "data": {
      "image/png": "[encoded data removed]",
      "text/plain": [
       "<Figure size 1000x1000 with 2 Axes>"
      ]
     },
     "metadata": {},
     "output_type": "display_data"
    }
   ],
   "source": [
    "fold1_results = cv_fold1_data(train_data)\n",
    "confusion_matrix_heatmap(fold1_results['y_true'], fold1_results['y_pred'], ['positive','negative'])"
   ]
  },
  {
   "cell_type": "markdown",
   "metadata": {},
   "source": [
    "## Error Analysis of False Positives "
   ]
  },
  {
   "cell_type": "code",
   "execution_count": 128,
   "metadata": {},
   "outputs": [],
   "source": [
    "foldsize = int(len(train_data) / 10)\n",
    "output_file_path = 'False_Positives.txt'\n",
    "\n",
    "with open(output_file_path, 'w', encoding='utf-8') as output_file:\n",
    "    for c, (text, label) in enumerate(raw_data[:foldsize]):\n",
    "        prediction = fold1_results['y_pred'][c]\n",
    "        if prediction == label:\n",
    "            continue\n",
    "        if not label == 'negative':\n",
    "            continue\n",
    "        output_file.write('**** FALSE POSITIVE (ground truth = {1}):****\\n\\n {0}\\n'.format(text, label))\n",
    "        output_file.write('*' * 50 + '\\n\\n')"
   ]
  },
  {
   "cell_type": "markdown",
   "metadata": {},
   "source": [
    "## Error Analysis of False Negatives "
   ]
  },
  {
   "cell_type": "code",
   "execution_count": 129,
   "metadata": {},
   "outputs": [],
   "source": [
    "foldsize = int(len(train_data) / 10)\n",
    "output_file_path = 'False_Negatives.txt'\n",
    "\n",
    "with open(output_file_path, 'w', encoding='utf-8') as output_file:\n",
    "    for c, (text, label) in enumerate(raw_data[:foldsize]):\n",
    "        prediction = fold1_results['y_pred'][c]\n",
    "        if prediction == label:\n",
    "            continue\n",
    "        if not label == 'positive':\n",
    "            continue\n",
    "        output_file.write('**** FALSE NEGATIVE (ground truth = {1}):****\\n\\n {0}\\n'.format(text, label))\n",
    "        output_file.write('*' * 50 + '\\n\\n')"
   ]
  },
  {
   "cell_type": "markdown",
   "metadata": {},
   "source": [
    "# Refer to Notebook 'NLP_Assignment_1_Qn5' for Question 5"
   ]
  }
 ],
 "metadata": {
  "kernelspec": {
   "display_name": "Python 3 (ipykernel)",
   "language": "python",
   "name": "python3"
  },
  "language_info": {
   "codemirror_mode": {
    "name": "ipython",
    "version": 3
   },
   "file_extension": ".py",
   "mimetype": "text/x-python",
   "name": "python",
   "nbconvert_exporter": "python",
   "pygments_lexer": "ipython3",
   "version": "3.11.4"
  }
 },
 "nbformat": 4,
 "nbformat_minor": 4
}
