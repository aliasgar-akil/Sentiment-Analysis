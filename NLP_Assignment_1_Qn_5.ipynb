{
 "cells": [
  {
   "cell_type": "code",
   "execution_count": 209,
   "metadata": {},
   "outputs": [],
   "source": [
    "import csv                              \n",
    "from sklearn.svm import LinearSVC\n",
    "from nltk.classify import SklearnClassifier\n",
    "from sklearn.pipeline import Pipeline\n",
    "from sklearn.metrics import precision_recall_fscore_support \n",
    "import numpy as np\n",
    "import warnings\n",
    "warnings.filterwarnings(\"ignore\")"
   ]
  },
  {
   "cell_type": "code",
   "execution_count": 210,
   "metadata": {},
   "outputs": [],
   "source": [
    "def load_data(path):\n",
    "    \"\"\"Load data from a tab-separated file and append it to raw_data.\"\"\"\n",
    "    with open(file = path, encoding='utf-8') as f:\n",
    "        reader = csv.reader(f, delimiter='\\t')\n",
    "        for line in reader:\n",
    "            if line[0] == \"Id\":  \n",
    "                continue\n",
    "            (label, text) = parse_data_line(line)\n",
    "            raw_data.append((text, label))\n",
    "\n",
    "def split_and_preprocess_data(percentage):\n",
    "    \"\"\"Split the data between train_data and test_data according to the percentage\n",
    "    and performs the preprocessing.\"\"\"\n",
    "    num_samples = len(raw_data)\n",
    "    num_training_samples = int((percentage * num_samples))\n",
    "    for (text, label) in raw_data[:num_training_samples]:\n",
    "        train_data.append((to_feature_vector(pre_process(text)),label))\n",
    "    for (text, label) in raw_data[num_training_samples:]:\n",
    "        test_data.append((to_feature_vector(pre_process(text)),label))"
   ]
  },
  {
   "cell_type": "code",
   "execution_count": 211,
   "metadata": {},
   "outputs": [],
   "source": [
    "def parse_data_line(data_line):\n",
    "    '''Takes a list corresponding to a data line as input and returns a tuple (label,statement)'''\n",
    "    label = data_line[1]\n",
    "    statement = data_line[2]\n",
    "    return ((label,statement))"
   ]
  },
  {
   "cell_type": "code",
   "execution_count": 212,
   "metadata": {},
   "outputs": [],
   "source": [
    "def pre_process(text):\n",
    "    '''Returns a list of tokens'''\n",
    "    import re, nltk\n",
    "    text = re.sub(r\"(\\w)([.,;:!?'\\\"”\\)])\", r\"\\1 \\2\", text) \n",
    "    text = re.sub(r\"([.,;:!?'\\\"“\\(\\)])(\\w)\", r\"\\1 \\2\", text) \n",
    "    tokens = re.split(r\"\\s+\",text)\n",
    "    return [t.lower() for t in tokens]"
   ]
  },
  {
   "cell_type": "code",
   "execution_count": 213,
   "metadata": {},
   "outputs": [],
   "source": [
    "global_feature_dict = {} \n",
    "\n",
    "# def to_feature_vector(tokens):\n",
    "#     '''Returns a dictionary of features as keys and their weights as values'''\n",
    "#     feature_vector={}\n",
    "#     for word in set(tokens):\n",
    "#         if word not in global_feature_dict:\n",
    "#             global_feature_dict[word] = tokens.count(word)\n",
    "#         else:\n",
    "#             global_feature_dict[word]+=tokens.count(word)\n",
    "#         feature_vector[word] = 1\n",
    "\n",
    "#     return feature_vector\n",
    "\n",
    "def to_feature_vector(tokens):\n",
    "    '''Returns a dictionary of features as keys and their counts as values'''\n",
    "    from nltk import FreqDist\n",
    "    for word in set(tokens):\n",
    "        if word not in global_feature_dict:\n",
    "            global_feature_dict[word] = tokens.count(word)\n",
    "        else:\n",
    "            global_feature_dict[word]+=tokens.count(word)\n",
    "    return dict(FreqDist(tokens))"
   ]
  },
  {
   "cell_type": "code",
   "execution_count": 214,
   "metadata": {},
   "outputs": [],
   "source": [
    "def train_classifier(data):\n",
    "    print(\"Training Classifier...\")\n",
    "    pipeline =  Pipeline([('svc', LinearSVC(C=0.05, max_iter=100))])\n",
    "    return SklearnClassifier(pipeline).train(data)\n",
    "\n",
    "# def train_classifier(data):\n",
    "#     print(\"Training Classifier...\")\n",
    "#     pipeline =  Pipeline([('svc', LinearSVC())])\n",
    "#     return SklearnClassifier(pipeline).train(data)\n"
   ]
  },
  {
   "cell_type": "code",
   "execution_count": 215,
   "metadata": {},
   "outputs": [],
   "source": [
    "#solution\n",
    "from sklearn.metrics import classification_report\n",
    "\n",
    "def cross_validate(dataset, folds):  #dataset is a list of tuples; each tuple containing a feature vector dictionary and a label\n",
    "    cv_results = {}\n",
    "    accuracy_scores = []\n",
    "    positive_precision_scores = []\n",
    "    positive_recall_scores = []\n",
    "    positive_f1_scores = []\n",
    "    negative_precision_scores = []\n",
    "    negative_recall_scores = []\n",
    "    negative_f1_scores = []\n",
    "    fold_size = int(len(dataset)/folds) + 1\n",
    "    \n",
    "    for i in range(0,len(dataset),int(fold_size)):\n",
    "        # insert code here that trains and tests on the 10 folds of data in the dataset\n",
    "        train_data_cv = dataset[:i] + dataset[i+fold_size:]\n",
    "        classifier = train_classifier(train_data_cv)\n",
    "        test_data = [k[0] for k in dataset[i:i+fold_size]]\n",
    "        labels_pred = predict_labels(test_data, classifier)\n",
    "        labels_true = [k[1] for k in dataset[i:i+fold_size]]\n",
    "        print(\"Fold start on items %d - %d\" % (i, i+fold_size))\n",
    "        report = classification_report(labels_true, labels_pred, output_dict=True)\n",
    "        accuracy_scores.append(report['accuracy'])\n",
    "        positive_precision_scores.append(report['positive']['precision'])\n",
    "        positive_recall_scores.append(report['positive']['recall'])\n",
    "        positive_f1_scores.append(report['positive']['f1-score'])\n",
    "        negative_precision_scores.append(report['negative']['precision'])\n",
    "        negative_recall_scores.append(report['negative']['recall'])\n",
    "        negative_f1_scores.append(report['negative']['f1-score'])\n",
    "    \n",
    "    avg_accuracy = sum(accuracy_scores) / len(accuracy_scores)\n",
    "    avg_positive_precision = sum(positive_precision_scores) / len(positive_precision_scores)\n",
    "    avg_positive_recall = sum(positive_recall_scores) / len(positive_recall_scores)\n",
    "    avg_positive_f1 = sum(positive_f1_scores) / len(positive_f1_scores)\n",
    "    avg_negative_precision = sum(negative_precision_scores) / len(negative_precision_scores)\n",
    "    avg_negative_recall = sum(negative_recall_scores) / len(negative_recall_scores)\n",
    "    avg_negative_f1 = sum(negative_f1_scores) / len(negative_f1_scores)\n",
    "    \n",
    "    positive_results = {'precision':avg_positive_precision, 'recall':avg_positive_recall, 'f1-score':avg_positive_f1}\n",
    "    negative_results = {'precision':avg_negative_precision, 'recall':avg_negative_recall, 'f1-score':avg_negative_f1}\n",
    "    \n",
    "    cv_results = {'positive':positive_results, 'negative':negative_results, 'accuracy':avg_accuracy}\n",
    "        \n",
    "    return cv_results"
   ]
  },
  {
   "cell_type": "code",
   "execution_count": 216,
   "metadata": {},
   "outputs": [],
   "source": [
    "# PREDICTING LABELS GIVEN A CLASSIFIER\n",
    "\n",
    "def predict_labels(samples, classifier):\n",
    "    \"\"\"Assuming preprocessed samples, return their predicted labels from the classifier model.\"\"\"\n",
    "    return classifier.classify_many(samples)\n",
    "\n",
    "def predict_label_from_raw(sample, classifier):\n",
    "    \"\"\"Assuming raw text, return its predicted label from the classifier model.\"\"\"\n",
    "    return classifier.classify(to_feature_vector(preProcess(reviewSample)))"
   ]
  },
  {
   "cell_type": "code",
   "execution_count": 217,
   "metadata": {},
   "outputs": [
    {
     "name": "stdout",
     "output_type": "stream",
     "text": [
      "Now 0 rawData, 0 trainData, 0 testData\n",
      "Preparing the dataset...\n",
      "Now 33540 rawData, 0 trainData, 0 testData\n",
      "Preparing training and test data...\n",
      "After split, 33540 rawData, 26832 trainData, 6708 testData\n",
      "Training Samples: \n",
      "26832\n",
      "Features: \n",
      "64640\n"
     ]
    }
   ],
   "source": [
    "# MAIN\n",
    "raw_data = []          \n",
    "train_data = []      \n",
    "test_data = []     \n",
    "\n",
    "data_file_path = 'sentiment-dataset.tsv'\n",
    "\n",
    "print(\"Now %d rawData, %d trainData, %d testData\" % (len(raw_data), len(train_data), len(test_data)),\n",
    "      \"Preparing the dataset...\",sep='\\n')\n",
    "\n",
    "load_data(data_file_path) \n",
    "\n",
    "print(\"Now %d rawData, %d trainData, %d testData\" % (len(raw_data), len(train_data), len(test_data)),\n",
    "      \"Preparing training and test data...\",sep='\\n')\n",
    "\n",
    "split_and_preprocess_data(0.8)\n",
    "\n",
    "print(\"After split, %d rawData, %d trainData, %d testData\" % (len(raw_data), len(train_data), len(test_data)),\n",
    "      \"Training Samples: \", len(train_data), \"Features: \", len(global_feature_dict), sep='\\n')\n"
   ]
  },
  {
   "cell_type": "code",
   "execution_count": 218,
   "metadata": {},
   "outputs": [
    {
     "name": "stdout",
     "output_type": "stream",
     "text": [
      "Training Classifier...\n",
      "Fold start on items 0 - 2684\n",
      "Training Classifier...\n",
      "Fold start on items 2684 - 5368\n",
      "Training Classifier...\n",
      "Fold start on items 5368 - 8052\n",
      "Training Classifier...\n",
      "Fold start on items 8052 - 10736\n",
      "Training Classifier...\n",
      "Fold start on items 10736 - 13420\n",
      "Training Classifier...\n",
      "Fold start on items 13420 - 16104\n",
      "Training Classifier...\n",
      "Fold start on items 16104 - 18788\n",
      "Training Classifier...\n",
      "Fold start on items 18788 - 21472\n",
      "Training Classifier...\n",
      "Fold start on items 21472 - 24156\n",
      "Training Classifier...\n",
      "Fold start on items 24156 - 26840\n"
     ]
    },
    {
     "data": {
      "text/plain": [
       "{'positive': {'precision': 0.8774218272777574,\n",
       "  'recall': 0.9205507729553878,\n",
       "  'f1-score': 0.8984014397841097},\n",
       " 'negative': {'precision': 0.8334374528090107,\n",
       "  'recall': 0.7502263794887376,\n",
       "  'f1-score': 0.7891714774770496},\n",
       " 'accuracy': 0.8657974845121063}"
      ]
     },
     "execution_count": 218,
     "metadata": {},
     "output_type": "execute_result"
    }
   ],
   "source": [
    "cross_validate(train_data, 10) "
   ]
  },
  {
   "cell_type": "code",
   "execution_count": 219,
   "metadata": {},
   "outputs": [],
   "source": [
    "from sklearn import metrics\n",
    "import matplotlib.pyplot as plt\n",
    "# a function to make the confusion matrix readable and pretty\n",
    "def confusion_matrix_heatmap(y_test, preds, labels):\n",
    "    \"\"\"Function to plot a confusion matrix\"\"\"\n",
    "    # pass labels to the confusion matrix function to ensure right order\n",
    "    # cm = metrics.confusion_matrix(y_test, preds, labels)\n",
    "    cm = metrics.confusion_matrix(y_test, preds, labels=labels)\n",
    "    fig = plt.figure(figsize=(10,10))\n",
    "    ax = fig.add_subplot(111)\n",
    "    cax = ax.matshow(cm)\n",
    "    plt.title('Confusion matrix of the classifier')\n",
    "    fig.colorbar(cax)\n",
    "    ax.set_xticks(np.arange(len(labels)))\n",
    "    ax.set_yticks(np.arange(len(labels)))\n",
    "    ax.set_xticklabels( labels, rotation=45)\n",
    "    ax.set_yticklabels( labels)\n",
    "\n",
    "    for i in range(len(cm)):\n",
    "        for j in range(len(cm)):\n",
    "            text = ax.text(j, i, cm[i, j],\n",
    "                           ha=\"center\", va=\"center\", color=\"w\")\n",
    "\n",
    "    plt.xlabel('Predicted')\n",
    "    plt.ylabel('True')\n",
    "    \n",
    "    # fix for mpl bug that cuts off top/bottom of seaborn viz:\n",
    "    b, t = plt.ylim() # discover the values for bottom and top\n",
    "    b += 0.5 # Add 0.5 to the bottom\n",
    "    t -= 0.5 # Subtract 0.5 from the top\n",
    "    plt.ylim(b, t) # update the ylim(bottom, top) values\n",
    "    plt.show() # ta-da!\n",
    "    plt.show()"
   ]
  },
  {
   "cell_type": "code",
   "execution_count": 220,
   "metadata": {},
   "outputs": [],
   "source": [
    "def cv_fold1_data(dataset):\n",
    "    foldsize=int(len(dataset)/10)\n",
    "    train_data_cv_fold1 = dataset[foldsize:]\n",
    "    classifier_fold1 = train_classifier(train_data_cv_fold1)\n",
    "    test_data_fold1 = [k[0] for k in dataset[:foldsize]]\n",
    "    labels_pred_fold1 = predict_labels(test_data_fold1, classifier_fold1)\n",
    "    labels_true_fold1 = [k[1] for k in dataset[:foldsize]]\n",
    "    cv_fold1_results = classification_report(labels_true_fold1, labels_pred_fold1, output_dict=True)\n",
    "    _ = cv_fold1_results['positive'].pop('support')\n",
    "    _ = cv_fold1_results['negative'].pop('support')\n",
    "    _ = cv_fold1_results.pop('weighted avg')\n",
    "    _ = cv_fold1_results.pop('macro avg')\n",
    "    cv_fold1_results['y_true'] = labels_true_fold1\n",
    "    cv_fold1_results['y_pred'] = labels_pred_fold1\n",
    "    return cv_fold1_results"
   ]
  },
  {
   "cell_type": "code",
   "execution_count": 221,
   "metadata": {},
   "outputs": [
    {
     "name": "stdout",
     "output_type": "stream",
     "text": [
      "Training Classifier...\n"
     ]
    },
    {
     "data": {
      "image/png": "[encoded data removed]",
      "text/plain": [
       "<Figure size 1000x1000 with 2 Axes>"
      ]
     },
     "metadata": {},
     "output_type": "display_data"
    }
   ],
   "source": [
    "fold1_results = cv_fold1_data(train_data)\n",
    "confusion_matrix_heatmap(fold1_results['y_true'], fold1_results['y_pred'], ['positive','negative'])"
   ]
  },
  {
   "cell_type": "markdown",
   "metadata": {},
   "source": [
    "# Questions 5: Optimising pre-processing and feature extraction (30 marks)"
   ]
  },
  {
   "cell_type": "markdown",
   "metadata": {},
   "source": [
    "**Note:** it is advisable to implement question 5 in a separate notebook where you further develop the pre-processing and feature extraction functions you implemented above."
   ]
  },
  {
   "cell_type": "code",
   "execution_count": 222,
   "metadata": {},
   "outputs": [
    {
     "name": "stdout",
     "output_type": "stream",
     "text": [
      "({'tomorrow': 1, 'we': 2, \"'\": 2, 'll': 2, 'release': 1, 'our': 2, '58th': 1, 'episode': 1, 'of': 1, '#hsonair': 1, 'profiling': 1, 'very': 1, 'own': 1, '@alissadossantos': 1, '!': 2, 'talk': 1, 'about': 1, 'storytelling': 1, 'and': 1, 'beyonce': 1}, 'positive')\n",
      "Training Classifier...\n",
      "Done training!\n",
      "Precision: 0.867573\n",
      "Recall: 0.868813\n",
      "F Score:0.867636\n"
     ]
    }
   ],
   "source": [
    "# Finally, check the accuracy of your classifier by training on all the traning data\n",
    "# and testing on the test set\n",
    "# Will only work once all functions are complete\n",
    "functions_complete = True  # set to True once you're happy with your methods for cross val\n",
    "if functions_complete:\n",
    "    print(test_data[0])   # have a look at the first test data instance\n",
    "    classifier = train_classifier(train_data)  # train the classifier\n",
    "    test_true = [t[1] for t in test_data]   # get the ground-truth labels from the data\n",
    "    test_pred = predict_labels([x[0] for x in test_data], classifier)  # classify the test data to get predicted labels\n",
    "    final_scores = precision_recall_fscore_support(test_true, test_pred, average='weighted') # evaluate\n",
    "    print(\"Done training!\")\n",
    "    print(\"Precision: %f\\nRecall: %f\\nF Score:%f\" % final_scores[:3])"
   ]
  }
 ],
 "metadata": {
  "kernelspec": {
   "display_name": "Python 3 (ipykernel)",
   "language": "python",
   "name": "python3"
  },
  "language_info": {
   "codemirror_mode": {
    "name": "ipython",
    "version": 3
   },
   "file_extension": ".py",
   "mimetype": "text/x-python",
   "name": "python",
   "nbconvert_exporter": "python",
   "pygments_lexer": "ipython3",
   "version": "3.11.4"
  }
 },
 "nbformat": 4,
 "nbformat_minor": 4
}
